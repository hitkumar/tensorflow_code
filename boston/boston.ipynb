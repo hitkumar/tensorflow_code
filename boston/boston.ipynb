{
 "cells": [
  {
   "cell_type": "code",
   "execution_count": null,
   "metadata": {
    "collapsed": true
   },
   "outputs": [],
   "source": [
    "from __future__ import absolute_import\n",
    "from __future__ import print_function\n",
    "from __future__ import division\n",
    "\n",
    "import tensorflow as tf\n",
    "import numpy as np\n",
    "import pandas as pd\n",
    "\n",
    "import itertools"
   ]
  },
  {
   "cell_type": "code",
   "execution_count": null,
   "metadata": {
    "collapsed": true
   },
   "outputs": [],
   "source": [
    "tf.logging.set_verbosity(tf.logging.INFO)\n",
    "COLUMNS = [\"crim\", \"zn\", \"indus\", \"nox\", \"rm\", \"age\",\n",
    "           \"dis\", \"tax\", \"ptratio\", \"medv\"]\n",
    "FEATURES = [\"crim\", \"zn\", \"indus\", \"nox\", \"rm\", \"age\",\n",
    "           \"dis\", \"tax\", \"ptratio\"]\n",
    "LABEL = \"medv\""
   ]
  },
  {
   "cell_type": "code",
   "execution_count": null,
   "metadata": {
    "collapsed": false
   },
   "outputs": [],
   "source": [
    "def get_input_fn(dataset, num_epochs=None, shuffle=True):\n",
    "    return tf.estimator.inputs.pandas_input_fn(\n",
    "        x=pd.DataFrame({k: dataset[k].values for k in FEATURES}),\n",
    "        y=pd.Series(dataset[LABEL].values),\n",
    "        num_epochs=num_epochs,\n",
    "        shuffle=shuffle)"
   ]
  },
  {
   "cell_type": "code",
   "execution_count": null,
   "metadata": {
    "collapsed": false
   },
   "outputs": [],
   "source": [
    "#Build the classifier\n",
    "training_set = pd.read_csv(\"boston_train.csv\", skipinitialspace=True, skiprows=1,names=COLUMNS)\n",
    "test_set = pd.read_csv(\"boston_test.csv\", skipinitialspace=True, skiprows=1,names=COLUMNS)\n",
    "prediction_set = pd.read_csv(\"boston_predict.csv\", skipinitialspace=True, skiprows=1,names=COLUMNS)\n",
    "print (training_set.size)\n",
    "print (test_set.size)\n",
    "\n",
    "feature_cols = [tf.feature_column.numeric_column(k) for k in FEATURES]\n",
    "regressor = None\n",
    "regressor = tf.estimator.DNNRegressor(\n",
    "    feature_columns=feature_cols, \n",
    "    hidden_units=[10, 10], \n",
    "    model_dir=\"/tmp/boston3\")\n",
    "\n",
    "regressor.train(input_fn=get_input_fn(training_set), steps = 5000)"
   ]
  },
  {
   "cell_type": "code",
   "execution_count": null,
   "metadata": {
    "collapsed": false
   },
   "outputs": [],
   "source": [
    "#Evaluate the model and predict on new examples\n",
    "evaluations = regressor.evaluate(input_fn=get_input_fn(test_set, num_epochs=1, shuffle=False))\n",
    "loss = evaluations[\"loss\"]\n",
    "print (\"Loss: {0:f}\".format(loss))\n",
    "\n",
    "predictions = list(regressor.predict(input_fn=get_input_fn(prediction_set, num_epochs=1, shuffle=False)))\n",
    "pre = [p[\"predictions\"] for p in predictions]\n",
    "print(\"Predictions: {}\".format(str(pre)))"
   ]
  },
  {
   "cell_type": "code",
   "execution_count": null,
   "metadata": {
    "collapsed": true
   },
   "outputs": [],
   "source": []
  }
 ],
 "metadata": {
  "anaconda-cloud": {},
  "kernelspec": {
   "display_name": "Python 2",
   "language": "python",
   "name": "python2"
  },
  "language_info": {
   "codemirror_mode": {
    "name": "ipython",
    "version": 2
   },
   "file_extension": ".py",
   "mimetype": "text/x-python",
   "name": "python",
   "nbconvert_exporter": "python",
   "pygments_lexer": "ipython2",
   "version": "2.7.13"
  }
 },
 "nbformat": 4,
 "nbformat_minor": 2
}
