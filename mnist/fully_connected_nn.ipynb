{
 "cells": [
  {
   "cell_type": "code",
   "execution_count": null,
   "metadata": {
    "collapsed": false
   },
   "outputs": [],
   "source": [
    "from __future__ import absolute_import\n",
    "from __future__ import division\n",
    "from __future__ import print_function\n",
    "\n",
    "import argparse\n",
    "import os\n",
    "import sys\n",
    "import time\n",
    "\n",
    "from six.moves import xrange\n",
    "import tensorflow as tf\n",
    "from tensorflow.examples.tutorials.mnist import input_data\n",
    "import mnist\n",
    "import math"
   ]
  },
  {
   "cell_type": "code",
   "execution_count": null,
   "metadata": {
    "collapsed": true
   },
   "outputs": [],
   "source": [
    "FLAGS = None"
   ]
  },
  {
   "cell_type": "code",
   "execution_count": null,
   "metadata": {
    "collapsed": false
   },
   "outputs": [],
   "source": [
    "def placeholder_inputs(batch_size):\n",
    "    images = tf.placeholder(tf.float32, shape=(batch_size, mnist.IMAGE_PIXELS))\n",
    "    labels = tf.placeholder(tf.int32, shape=(batch_size))\n",
    "    return images, labels\n",
    "\n",
    "def fill_feed_dict(data_set, images_pl, labels_pl):\n",
    "    images, labels = data_set.next_batch(FLAGS.batch_size, FLAGS.fake_data)\n",
    "    feed_dict = {\n",
    "        images_pl: images,\n",
    "        labels_pl: labels\n",
    "    }\n",
    "    return feed_dict\n",
    "\n",
    "def do_eval(sess,\n",
    "            eval_correct,\n",
    "            images_placeholder,\n",
    "            labels_placeholder,\n",
    "            data_set):\n",
    "    \n",
    "    true_count = 0\n",
    "    num_steps = data_set.num_examples\n",
    "    num_examples = num_steps * FLAGS.batch_size\n",
    "    for step in xrange(num_steps):\n",
    "        feed_dict = fill_feed_dict(data_set, images_placeholder, labels_placeholder)\n",
    "        true_count += sess.run(eval_correct, feed_dict = feed_dict)\n",
    "        \n",
    "    precision = float(true_count) / num_examples\n",
    "    print (\"Num examples: %d, true_count: %d, precision: %f\" % (num_examples, true_count, precision))"
   ]
  },
  {
   "cell_type": "code",
   "execution_count": null,
   "metadata": {
    "collapsed": false
   },
   "outputs": [],
   "source": [
    "def run_training():\n",
    "    data_sets = input_data.read_data_sets(FLAGS.input_data_dir, FLAGS.fake_data)\n",
    "    with tf.Graph().as_default():\n",
    "        images, labels = placeholder_inputs(FLAGS.batch_size)\n",
    "        logits = mnist.inference(images, FLAGS.hidden1, FLAGS.hidden2)\n",
    "        train_loss = mnist.loss(logits, labels)\n",
    "        train_op = mnist.training(train_loss, FLAGS.learning_rate)\n",
    "        eval_correct = mnist.evaluation(logits, labels)\n",
    "        \n",
    "        init = tf.global_variables_initializer()\n",
    "        sess = tf.Session()\n",
    "        sess.run(init)\n",
    "        \n",
    "        for step in xrange(FLAGS.max_steps):\n",
    "            start_time = time.time()\n",
    "            feed_dict = fill_feed_dict(data_sets.train, images, labels)\n",
    "            sess.run([train_op], feed_dict = feed_dict)\n",
    "            duration = time.time() - start_time\n",
    "            # print (duration)\n",
    "            \n",
    "            if (step + 1) % 1000 == 0 or (step + 1) == FLAGS.max_steps:\n",
    "                print (\"Training data eval:\")\n",
    "                do_eval(sess,\n",
    "                        eval_correct,\n",
    "                        images,\n",
    "                        labels,\n",
    "                        data_sets.train)\n",
    "                print (\"Validation data eval:\")\n",
    "                do_eval(sess,\n",
    "                        eval_correct,\n",
    "                        images,\n",
    "                        labels,\n",
    "                        data_sets.validation)\n",
    "                print (\"Test data eval:\")\n",
    "                do_eval(sess,\n",
    "                        eval_correct,\n",
    "                        images,\n",
    "                        labels,\n",
    "                        data_sets.test)"
   ]
  },
  {
   "cell_type": "code",
   "execution_count": null,
   "metadata": {
    "collapsed": false
   },
   "outputs": [],
   "source": [
    "if __name__ == '__main__':\n",
    "  parser = argparse.ArgumentParser()\n",
    "  parser.add_argument(\n",
    "      '--learning_rate',\n",
    "      type=float,\n",
    "      default=0.01,\n",
    "      help='Initial learning rate.'\n",
    "  )\n",
    "  parser.add_argument(\n",
    "      '--max_steps',\n",
    "      type=int,\n",
    "      default=20000,\n",
    "      help='Number of steps to run trainer.'\n",
    "  )\n",
    "  parser.add_argument(\n",
    "      '--hidden1',\n",
    "      type=int,\n",
    "      default=128,\n",
    "      help='Number of units in hidden layer 1.'\n",
    "  )\n",
    "  parser.add_argument(\n",
    "      '--hidden2',\n",
    "      type=int,\n",
    "      default=32,\n",
    "      help='Number of units in hidden layer 2.'\n",
    "  )\n",
    "  parser.add_argument(\n",
    "      '--batch_size',\n",
    "      type=int,\n",
    "      default=100,\n",
    "      help='Batch size.  Must divide evenly into the dataset sizes.'\n",
    "  )\n",
    "  parser.add_argument(\n",
    "      '--input_data_dir',\n",
    "      type=str,\n",
    "      default=os.path.join(os.getenv('TEST_TMPDIR', '/tmp'),\n",
    "                           'tensorflow/mnist/input_data'),\n",
    "      help='Directory to put the input data.'\n",
    "  )\n",
    "  parser.add_argument(\n",
    "      '--fake_data',\n",
    "      default=False,\n",
    "      help='If true, uses fake data for unit testing.',\n",
    "      action='store_true'\n",
    "  )\n",
    "\n",
    "  FLAGS, unparsed = parser.parse_known_args()\n",
    "  run_training()"
   ]
  },
  {
   "cell_type": "code",
   "execution_count": null,
   "metadata": {
    "collapsed": true
   },
   "outputs": [],
   "source": []
  }
 ],
 "metadata": {
  "anaconda-cloud": {},
  "kernelspec": {
   "display_name": "Python 2",
   "language": "python",
   "name": "python2"
  },
  "language_info": {
   "codemirror_mode": {
    "name": "ipython",
    "version": 2
   },
   "file_extension": ".py",
   "mimetype": "text/x-python",
   "name": "python",
   "nbconvert_exporter": "python",
   "pygments_lexer": "ipython2",
   "version": "2.7.13"
  }
 },
 "nbformat": 4,
 "nbformat_minor": 2
}
